{
 "cells": [
  {
   "cell_type": "markdown",
   "id": "a4b4e5bd",
   "metadata": {},
   "source": [
    "# Create an image file(.png) for Calibration.\n",
    "\n",
    "## 0. This code create a image file like below.\n",
    "<img src=\"./board/charuco_15.0_inch_7x4_39.33_mm.png\" width=\"400\">\n",
    "\n",
    "## 1. How to create \n",
    "1. Create Charuco Board data.\n",
    "2. Export the data as image file.\n",
    "\n",
    "## 2. How to capture board images.\n",
    "1. Display the image on the screen.\n",
    "2. Measure the square size which is used when you calibrate later.\n",
    "3. Capture 20 or more images."
   ]
  },
  {
   "cell_type": "code",
   "execution_count": null,
   "id": "8bf27e56",
   "metadata": {},
   "outputs": [],
   "source": [
    "from glob import glob\n",
    "import numpy as np\n",
    "import os, cv2\n",
    "import matplotlib.pyplot as plt"
   ]
  },
  {
   "cell_type": "markdown",
   "id": "b7d64967",
   "metadata": {},
   "source": [
    "## 3. User Settings"
   ]
  },
  {
   "cell_type": "code",
   "execution_count": 2,
   "id": "08541e5e",
   "metadata": {},
   "outputs": [],
   "source": [
    "# Screen dimensions and resolution\n",
    "screen_diagonal_inches = 15.0\n",
    "screen_resolution = (1920, 1080)\n",
    "screen_aspect_ratio = (16, 9)\n",
    "\n",
    "# Board Settings\n",
    "target_square_size_m = 0.040 # [m]\n",
    "square_num_x = 7   # odd number of squares along the x-axis\n",
    "square_num_y = 4   # even number of squares along the y-axis\n",
    "\n",
    "folder_path_output = './board'\n",
    "os.makedirs(folder_path_output, exist_ok=True)"
   ]
  },
  {
   "cell_type": "markdown",
   "id": "53aa9a9e",
   "metadata": {},
   "source": [
    "## 4. Prepare board paremters"
   ]
  },
  {
   "cell_type": "code",
   "execution_count": 3,
   "id": "ad6ed847",
   "metadata": {},
   "outputs": [
    {
     "name": "stdout",
     "output_type": "stream",
     "text": [
      "dot per meter = 5781.908582893171 [1/m]\n",
      "meter per dot = 0.00017295327064815276 [m]\n",
      "mili-meter per dot = 0.17295327064815275 [mm]\n",
      "dot_per_square = 231\n",
      "real_square_size_m = 0.03995220551972329\n",
      "real_square_size_mm = 39.95220551972329\n"
     ]
    }
   ],
   "source": [
    "# Chessboard configuration\n",
    "aruco_dict = cv2.aruco.getPredefinedDictionary(cv2.aruco.DICT_4X4_250)\n",
    "\n",
    "# Convert screen diagonal to meters\n",
    "screen_diagonal_meters = screen_diagonal_inches * 0.0254\n",
    "\n",
    "# Calculate screen width and height in meters\n",
    "screen_diagonal = np.sqrt(screen_aspect_ratio[0]**2 + screen_aspect_ratio[1]**2)\n",
    "screen_width_meters = screen_diagonal_meters * (screen_aspect_ratio[0] / screen_diagonal)\n",
    "screen_height_meters = screen_diagonal_meters * (screen_aspect_ratio[1] / screen_diagonal)\n",
    "\n",
    "# Calculate DPI (dots per meter)\n",
    "dpm = screen_resolution[0] / screen_width_meters\n",
    "mpd = screen_width_meters / screen_resolution[0]\n",
    "dot_per_square = int(np.floor(target_square_size_m / mpd))\n",
    "real_square_size_m = dot_per_square * mpd\n",
    "\n",
    "print(f'dot per meter = {dpm} [1/m]')\n",
    "print(f'meter per dot = {mpd} [m]')\n",
    "print(f'mili-meter per dot = {mpd*1000} [mm]')\n",
    "print(f'dot_per_square = {dot_per_square}')\n",
    "print(f'real_square_size_m = {real_square_size_m}')\n",
    "print(f'real_square_size_mm = {real_square_size_m*1000}')"
   ]
  },
  {
   "cell_type": "markdown",
   "id": "e8103519",
   "metadata": {},
   "source": [
    "## 5. Create a board object"
   ]
  },
  {
   "cell_type": "code",
   "execution_count": 4,
   "id": "4149aa72",
   "metadata": {},
   "outputs": [
    {
     "name": "stdout",
     "output_type": "stream",
     "text": [
      "real_square_size_m * dpm = 231.00000000000003\n",
      "square_size_pixels = 231\n",
      "x pixel = 1617 / 1920\n",
      "y pixel = 924 / 1080\n"
     ]
    }
   ],
   "source": [
    "# Calculate the size of each square in pixels\n",
    "square_size_pixels = int(real_square_size_m * dpm)\n",
    "\n",
    "print(f'real_square_size_m * dpm = {real_square_size_m * dpm}')\n",
    "print(f'square_size_pixels = {square_size_pixels}')\n",
    "\n",
    "# 条件に合わなければエラーメッセージを表示して終了する assert に変換\n",
    "assert (square_num_x * square_size_pixels) <= screen_resolution[0], \\\n",
    "    f'Width Error  !! : {square_num_x * square_size_pixels} pixel. Max={screen_resolution[0]}'\n",
    "\n",
    "assert (square_num_y * square_size_pixels) <= screen_resolution[1], \\\n",
    "    f'Height Error !! : {square_num_y * square_size_pixels} pixel. Max={screen_resolution[1]}'\n",
    "\n",
    "print(f'x pixel = {square_num_x * square_size_pixels} / {screen_resolution[0]}')\n",
    "print(f'y pixel = {square_num_y * square_size_pixels} / {screen_resolution[1]}')\n",
    "    \n",
    "# Create boadr instance\n",
    "board = cv2.aruco.CharucoBoard((square_num_x, square_num_y), square_size_pixels / dpm, (square_size_pixels / dpm) * 0.75, aruco_dict)"
   ]
  },
  {
   "cell_type": "markdown",
   "id": "b2bcda70",
   "metadata": {},
   "source": [
    "## 6. Export a board image as png"
   ]
  },
  {
   "cell_type": "code",
   "execution_count": 5,
   "id": "33dc16cb",
   "metadata": {},
   "outputs": [
    {
     "name": "stdout",
     "output_type": "stream",
     "text": [
      "charuco_15.0_inch_7x4_39.95_mm\n"
     ]
    },
    {
     "data": {
      "text/plain": [
       "True"
      ]
     },
     "execution_count": 5,
     "metadata": {},
     "output_type": "execute_result"
    },
    {
     "data": {
      "image/png": "[encoded data removed]",
      "text/plain": [
       "<Figure size 640x480 with 1 Axes>"
      ]
     },
     "metadata": {},
     "output_type": "display_data"
    }
   ],
   "source": [
    "img_charuco = board.generateImage(screen_resolution, marginSize=100, borderBits=1)\n",
    "plt.imshow(img_charuco, cmap='gray')\n",
    "plt.axis('off')\n",
    "\n",
    "# Save the image. We use this image to capture this with fish-eye camera.\n",
    "file_name = 'charuco_'\n",
    "file_name += f'{screen_diagonal_inches:.1f}_inch_'\n",
    "file_name += f'{square_num_x}x{square_num_y}_'\n",
    "file_name += f'{real_square_size_m*1000:.2f}_mm'\n",
    "print(file_name)\n",
    "cv2.imwrite(f'{folder_path_output}/{file_name}.png', img_charuco)"
   ]
  },
  {
   "cell_type": "code",
   "execution_count": null,
   "id": "760c8de3",
   "metadata": {},
   "outputs": [],
   "source": []
  }
 ],
 "metadata": {
  "kernelspec": {
   "display_name": "Python 3",
   "language": "python",
   "name": "python3"
  },
  "language_info": {
   "codemirror_mode": {
    "name": "ipython",
    "version": 3
   },
   "file_extension": ".py",
   "mimetype": "text/x-python",
   "name": "python",
   "nbconvert_exporter": "python",
   "pygments_lexer": "ipython3",
   "version": "3.10.12"
  }
 },
 "nbformat": 4,
 "nbformat_minor": 5
}
