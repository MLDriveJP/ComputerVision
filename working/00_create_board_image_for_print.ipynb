{
 "cells": [
  {
   "cell_type": "markdown",
   "id": "203ab976",
   "metadata": {},
   "source": [
    "# Create an image file(.pdf) for Calibration.\n",
    "\n",
    "## 0. This code create a image file like below.\n",
    "<img src=\"./board/charuco_A4_11x6_20.00_mm.png\" width=\"400\">\n",
    "\n",
    "## 1. How to create \n",
    "1. Create Charuco Board data.\n",
    "2. Export the data as image file.\n",
    "\n",
    "## 2. How to capture board images.\n",
    "1. Print the image into A4 paper.\n",
    "2. Measure the square size which is used when you calibrate later.\n",
    "3. Capture 20 or more images."
   ]
  },
  {
   "cell_type": "code",
   "execution_count": 5,
   "id": "8bf27e56",
   "metadata": {},
   "outputs": [],
   "source": [
    "from reportlab.lib.pagesizes import A4, landscape\n",
    "from reportlab.pdfgen import canvas\n",
    "from PIL import Image\n",
    "\n",
    "from glob import glob\n",
    "import numpy as np\n",
    "import sys, os, cv2, inspect\n",
    "import matplotlib.pyplot as plt\n",
    "from PIL import Image\n",
    "\n",
    "folder_path_output = './board'\n",
    "os.makedirs(folder_path_output, exist_ok=True)"
   ]
  },
  {
   "cell_type": "code",
   "execution_count": 6,
   "id": "74849034",
   "metadata": {},
   "outputs": [],
   "source": [
    "def create_file_name(square_num_x, square_num_y, real_square_size_m):\n",
    "    file_name = 'charuco_A4_'\n",
    "    file_name += f'{square_num_x}x{square_num_y}_'\n",
    "    file_name += f'{real_square_size_m*1000:.2f}_mm'\n",
    "    return file_name"
   ]
  },
  {
   "cell_type": "markdown",
   "id": "51a55f6b",
   "metadata": {},
   "source": [
    "## 3.1. Charuco: 5x4, square=40.0 mm"
   ]
  },
  {
   "cell_type": "code",
   "execution_count": 7,
   "id": "702430a3",
   "metadata": {},
   "outputs": [
    {
     "name": "stdout",
     "output_type": "stream",
     "text": [
      "Finish : ./board/charuco_A4_5x4_40.00_mm.pdf\n"
     ]
    },
    {
     "data": {
      "text/plain": [
       "(-0.5, 2361.5, 1888.5, -0.5)"
      ]
     },
     "execution_count": 7,
     "metadata": {},
     "output_type": "execute_result"
    },
    {
     "data": {
      "image/png": "[encoded data removed]",
      "text/plain": [
       "<Figure size 640x480 with 1 Axes>"
      ]
     },
     "metadata": {},
     "output_type": "display_data"
    }
   ],
   "source": [
    "# 1. パラメータ設定（単位：メートル）\n",
    "real_square_size_mm = 40.0\n",
    "real_square_size_m = real_square_size_mm / 1000.0\n",
    "real_marker_size_m = real_square_size_m * 0.75\n",
    "square_num_x = 5\n",
    "square_num_y = 4\n",
    "\n",
    "file_name_pdf = create_file_name(square_num_x, square_num_y, real_square_size_m)\n",
    "file_path_pdf = f'{folder_path_output}/{file_name_pdf}.pdf'\n",
    "\n",
    "# 2. Charucoボード定義（OpenCV）\n",
    "aruco_dict = cv2.aruco.getPredefinedDictionary(cv2.aruco.DICT_4X4_250)\n",
    "board = cv2.aruco.CharucoBoard((square_num_x, square_num_y), real_square_size_m, real_marker_size_m, aruco_dict)\n",
    "\n",
    "# 3. 画像サイズ（物理サイズから計算）→ DPI = 300\n",
    "dpi = 300\n",
    "mm_per_inch = 25.4\n",
    "\n",
    "# 印刷領域のサイズ（単位：mm）\n",
    "charuco_width_mm = square_num_x * real_square_size_mm  # 例：5×40mm = 200mm\n",
    "charuco_height_mm = square_num_y * real_square_size_mm # 例：4×40mm = 160mm\n",
    "\n",
    "# ピクセルサイズ（OpenCVでの画像生成）\n",
    "charuco_width_px = int(charuco_width_mm / mm_per_inch * dpi)\n",
    "charuco_height_px = int(charuco_height_mm / mm_per_inch * dpi)\n",
    "\n",
    "# OpenCVで画像生成（NumPy → PILに変換）\n",
    "img = board.generateImage((charuco_width_px, charuco_height_px), marginSize=0, borderBits=1)\n",
    "img_pil = Image.fromarray(img)\n",
    "img_path = file_path_pdf.replace(\".pdf\", \".png\")\n",
    "img_pil.save(img_path, dpi=(dpi, dpi))\n",
    "\n",
    "# A4用紙上に画像を mm 単位で正確に配置（中央）\n",
    "\n",
    "c = canvas.Canvas(file_path_pdf, pagesize=landscape(A4))\n",
    "\n",
    "# A4サイズ（ポイント：1pt = 1/72 inch）\n",
    "page_width_pt, page_height_pt = landscape(A4) # A4\n",
    "charuco_width_pt = charuco_width_mm * 72 / mm_per_inch\n",
    "charuco_height_pt = charuco_height_mm * 72 / mm_per_inch\n",
    "x_offset = (page_width_pt - charuco_width_pt) / 2\n",
    "y_offset = (page_height_pt - charuco_height_pt) / 2\n",
    "\n",
    "# PDFに画像貼り付け\n",
    "c.drawImage(img_path, x_offset, y_offset, width=charuco_width_pt, height=charuco_height_pt)\n",
    "c.showPage()\n",
    "c.save()\n",
    "\n",
    "print(f\"Finish : {file_path_pdf}\")\n",
    "\n",
    "plt.imshow(img, cmap='gray')\n",
    "plt.axis('off')\n"
   ]
  },
  {
   "cell_type": "markdown",
   "id": "913fc0b8",
   "metadata": {},
   "source": [
    "## 3.2. Charuco: 5x4, square=40.0 mm"
   ]
  },
  {
   "cell_type": "code",
   "execution_count": 8,
   "id": "65b9807b",
   "metadata": {},
   "outputs": [
    {
     "name": "stdout",
     "output_type": "stream",
     "text": [
      "Finish : ./board/charuco_A4_11x6_20.00_mm.pdf\n"
     ]
    },
    {
     "data": {
      "text/plain": [
       "(-0.5, 2597.5, 1416.5, -0.5)"
      ]
     },
     "execution_count": 8,
     "metadata": {},
     "output_type": "execute_result"
    },
    {
     "data": {
      "image/png": "[encoded data removed]",
      "text/plain": [
       "<Figure size 640x480 with 1 Axes>"
      ]
     },
     "metadata": {},
     "output_type": "display_data"
    }
   ],
   "source": [
    "# 1. パラメータ設定（単位：メートル）\n",
    "real_square_size_mm = 20.0\n",
    "real_square_size_m = real_square_size_mm / 1000.0\n",
    "real_marker_size_m = real_square_size_m * 0.75\n",
    "square_num_x = 11\n",
    "square_num_y = 6\n",
    "\n",
    "file_name_pdf = create_file_name(square_num_x, square_num_y, real_square_size_m)\n",
    "file_path_pdf = f'{folder_path_output}/{file_name_pdf}.pdf'\n",
    "\n",
    "# 2. Charucoボード定義（OpenCV）\n",
    "aruco_dict = cv2.aruco.getPredefinedDictionary(cv2.aruco.DICT_4X4_250)\n",
    "board = cv2.aruco.CharucoBoard((square_num_x, square_num_y), real_square_size_m, real_marker_size_m, aruco_dict)\n",
    "\n",
    "# 3. 画像サイズ（物理サイズから計算）→ DPI = 300\n",
    "dpi = 300\n",
    "mm_per_inch = 25.4\n",
    "\n",
    "# 印刷領域のサイズ（単位：mm）\n",
    "charuco_width_mm = square_num_x * real_square_size_mm  # 例：5×40mm = 200mm\n",
    "charuco_height_mm = square_num_y * real_square_size_mm # 例：4×40mm = 160mm\n",
    "\n",
    "# ピクセルサイズ（OpenCVでの画像生成）\n",
    "charuco_width_px = int(charuco_width_mm / mm_per_inch * dpi)\n",
    "charuco_height_px = int(charuco_height_mm / mm_per_inch * dpi)\n",
    "\n",
    "# OpenCVで画像生成（NumPy → PILに変換）\n",
    "img = board.generateImage((charuco_width_px, charuco_height_px), marginSize=0, borderBits=1)\n",
    "img_pil = Image.fromarray(img)\n",
    "img_path = file_path_pdf.replace(\".pdf\", \".png\")\n",
    "img_pil.save(img_path, dpi=(dpi, dpi))\n",
    "\n",
    "# A4用紙上に画像を mm 単位で正確に配置（中央）\n",
    "c = canvas.Canvas(file_path_pdf, pagesize=landscape(A4))\n",
    "\n",
    "# A4サイズ（ポイント：1pt = 1/72 inch）\n",
    "page_width_pt, page_height_pt = landscape(A4) # A4\n",
    "charuco_width_pt = charuco_width_mm * 72 / mm_per_inch\n",
    "charuco_height_pt = charuco_height_mm * 72 / mm_per_inch\n",
    "x_offset = (page_width_pt - charuco_width_pt) / 2\n",
    "y_offset = (page_height_pt - charuco_height_pt) / 2\n",
    "\n",
    "# PDFに画像貼り付け\n",
    "c.drawImage(img_path, x_offset, y_offset, width=charuco_width_pt, height=charuco_height_pt)\n",
    "c.showPage()\n",
    "c.save()\n",
    "\n",
    "print(f\"Finish : {file_path_pdf}\")\n",
    "\n",
    "plt.imshow(img, cmap='gray')\n",
    "plt.axis('off')\n"
   ]
  },
  {
   "cell_type": "code",
   "execution_count": null,
   "id": "a7f5fb1a",
   "metadata": {},
   "outputs": [],
   "source": []
  }
 ],
 "metadata": {
  "kernelspec": {
   "display_name": "Python 3",
   "language": "python",
   "name": "python3"
  },
  "language_info": {
   "codemirror_mode": {
    "name": "ipython",
    "version": 3
   },
   "file_extension": ".py",
   "mimetype": "text/x-python",
   "name": "python",
   "nbconvert_exporter": "python",
   "pygments_lexer": "ipython3",
   "version": "3.10.12"
  }
 },
 "nbformat": 4,
 "nbformat_minor": 5
}
